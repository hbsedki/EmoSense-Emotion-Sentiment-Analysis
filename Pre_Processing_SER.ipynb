{
 "cells": [
  {
   "cell_type": "markdown",
   "metadata": {
    "colab_type": "text",
    "id": "view-in-github"
   },
   "source": [
    "<a href=\"https://colab.research.google.com/github/Rahafzsh/SpeechEmotionsRecognition/blob/main/Pre_Processing_SER.ipynb\" target=\"_parent\"><img src=\"https://colab.research.google.com/assets/colab-badge.svg\" alt=\"Open In Colab\"/></a>"
   ]
  },
  {
   "cell_type": "markdown",
   "metadata": {
    "id": "O8fnEe5DRdLw",
    "papermill": {
     "duration": 0.035265,
     "end_time": "2022-08-07T15:49:16.185230",
     "exception": false,
     "start_time": "2022-08-07T15:49:16.149965",
     "status": "completed"
    },
    "tags": []
   },
   "source": [
    "# **Speech Emotion Recognition - (CNN)**"
   ]
  },
  {
   "cell_type": "markdown",
   "metadata": {
    "id": "ucfqF--ORdLx",
    "papermill": {
     "duration": 0.033948,
     "end_time": "2022-08-07T15:49:16.254308",
     "exception": false,
     "start_time": "2022-08-07T15:49:16.220360",
     "status": "completed"
    },
    "tags": []
   },
   "source": [
    "#  Importing\n"
   ]
  },
  {
   "cell_type": "code",
   "execution_count": 1,
   "metadata": {
    "_cell_guid": "79c7e3d0-c299-4dcb-8224-4455121ee9b0",
    "_uuid": "d629ff2d2480ee46fbb7e2d37f6b5fab8052498a",
    "execution": {
     "iopub.execute_input": "2022-08-07T15:49:28.842714Z",
     "iopub.status.busy": "2022-08-07T15:49:28.842192Z",
     "iopub.status.idle": "2022-08-07T15:49:35.105951Z",
     "shell.execute_reply": "2022-08-07T15:49:35.104913Z",
     "shell.execute_reply.started": "2022-07-12T15:35:53.387596Z"
    },
    "id": "4oxcVrleRdLy",
    "papermill": {
     "duration": 6.326901,
     "end_time": "2022-08-07T15:49:35.106104",
     "exception": false,
     "start_time": "2022-08-07T15:49:28.779203",
     "status": "completed"
    },
    "tags": []
   },
   "outputs": [],
   "source": [
    "import pandas as pd\n",
    "import numpy as np\n",
    "\n",
    "import os\n",
    "import sys\n",
    "import tensorflow as tf\n",
    "import librosa\n",
    "import librosa.display\n",
    "import seaborn as sns\n",
    "import matplotlib.pyplot as plt\n",
    "\n",
    "from time import sleep, time\n",
    "from sklearn.metrics import roc_curve, auc"
   ]
  },
  {
   "cell_type": "code",
   "execution_count": 2,
   "metadata": {
    "_cell_guid": "79c7e3d0-c299-4dcb-8224-4455121ee9b0",
    "_uuid": "d629ff2d2480ee46fbb7e2d37f6b5fab8052498a",
    "execution": {
     "iopub.execute_input": "2022-08-07T15:49:35.228784Z",
     "iopub.status.busy": "2022-08-07T15:49:35.228169Z",
     "iopub.status.idle": "2022-08-07T15:49:35.313939Z",
     "shell.execute_reply": "2022-08-07T15:49:35.313501Z",
     "shell.execute_reply.started": "2022-07-12T15:35:59.676746Z"
    },
    "id": "RHZ3_-qgRdLz",
    "papermill": {
     "duration": 0.150702,
     "end_time": "2022-08-07T15:49:35.314078",
     "exception": false,
     "start_time": "2022-08-07T15:49:35.163376",
     "status": "completed"
    },
    "tags": []
   },
   "outputs": [],
   "source": [
    "from sklearn.preprocessing import StandardScaler, OneHotEncoder\n",
    "from sklearn.metrics import confusion_matrix, classification_report\n",
    "from sklearn.model_selection import train_test_split\n",
    "\n",
    "# to play the audio files\n",
    "from IPython.display import Audio\n",
    "\n",
    "import keras\n",
    "from keras.callbacks import EarlyStopping\n",
    "from keras.callbacks import ReduceLROnPlateau\n",
    "from keras.models import Sequential\n",
    "from keras.layers import Dense, Conv1D, MaxPooling1D, Flatten, Dropout, BatchNormalization,LSTM\n",
    "from keras.utils import to_categorical\n",
    "from keras.callbacks import ModelCheckpoint\n",
    "from sklearn.model_selection import StratifiedShuffleSplit\n",
    "from sklearn.metrics import accuracy_score\n",
    "\n",
    "import warnings\n",
    "if not sys.warnoptions:\n",
    "    warnings.simplefilter(\"ignore\")\n",
    "warnings.filterwarnings(\"ignore\", category=DeprecationWarning)"
   ]
  },
  {
   "cell_type": "markdown",
   "metadata": {
    "id": "IN3v43M4hKha"
   },
   "source": [
    "Mounting Drive"
   ]
  },
  {
   "cell_type": "code",
   "execution_count": 3,
   "metadata": {
    "colab": {
     "base_uri": "https://localhost:8080/"
    },
    "id": "56URQXR_SbVi",
    "outputId": "4e17f87a-e66a-4c1b-e56d-480f10097b10"
   },
   "outputs": [
    {
     "ename": "ModuleNotFoundError",
     "evalue": "No module named 'google.colab'",
     "output_type": "error",
     "traceback": [
      "\u001b[0;31m---------------------------------------------------------------------------\u001b[0m",
      "\u001b[0;31mModuleNotFoundError\u001b[0m                       Traceback (most recent call last)",
      "Cell \u001b[0;32mIn[3], line 1\u001b[0m\n\u001b[0;32m----> 1\u001b[0m \u001b[38;5;28;01mfrom\u001b[39;00m \u001b[38;5;21;01mgoogle\u001b[39;00m\u001b[38;5;21;01m.\u001b[39;00m\u001b[38;5;21;01mcolab\u001b[39;00m \u001b[38;5;28;01mimport\u001b[39;00m drive\n\u001b[1;32m      2\u001b[0m drive\u001b[38;5;241m.\u001b[39mmount(\u001b[38;5;124m'\u001b[39m\u001b[38;5;124m/content/drive\u001b[39m\u001b[38;5;124m'\u001b[39m)\n",
      "\u001b[0;31mModuleNotFoundError\u001b[0m: No module named 'google.colab'"
     ]
    }
   ],
   "source": [
    "from google.colab import drive\n",
    "drive.mount('/content/drive')"
   ]
  },
  {
   "cell_type": "markdown",
   "metadata": {
    "id": "xKMf9OiqhSGb"
   },
   "source": [
    "Datasets paths\n"
   ]
  },
  {
   "cell_type": "code",
   "execution_count": null,
   "metadata": {
    "execution": {
     "iopub.execute_input": "2022-08-07T15:49:35.435941Z",
     "iopub.status.busy": "2022-08-07T15:49:35.434896Z",
     "iopub.status.idle": "2022-08-07T15:49:35.437155Z",
     "shell.execute_reply": "2022-08-07T15:49:35.437708Z",
     "shell.execute_reply.started": "2022-07-12T15:35:59.776577Z"
    },
    "id": "DlIaKCSeRdLz",
    "papermill": {
     "duration": 0.064929,
     "end_time": "2022-08-07T15:49:35.437847",
     "exception": false,
     "start_time": "2022-08-07T15:49:35.372918",
     "status": "completed"
    },
    "tags": []
   },
   "outputs": [],
   "source": [
    "# Data\n",
    "Ravdess = \"/content/drive/MyDrive/SER (Dataset)/RAVDESS/audio_speech_actors_01-24/\"\n",
    "Crema = \"/content/drive/MyDrive/SER (Dataset)/CREMA/\"\n",
    "Savee = \"/content/drive/MyDrive/SER (Dataset)/SAVEE/\"\n"
   ]
  },
  {
   "cell_type": "markdown",
   "metadata": {
    "id": "AweRvLsqg6NY"
   },
   "source": [
    "## <center>1. Ravdess Dataset</center>"
   ]
  },
  {
   "cell_type": "code",
   "execution_count": null,
   "metadata": {
    "colab": {
     "base_uri": "https://localhost:8080/"
    },
    "execution": {
     "iopub.execute_input": "2022-08-07T15:49:35.563071Z",
     "iopub.status.busy": "2022-08-07T15:49:35.562522Z",
     "iopub.status.idle": "2022-08-07T15:49:36.608324Z",
     "shell.execute_reply": "2022-08-07T15:49:36.607368Z",
     "shell.execute_reply.started": "2022-07-12T15:35:59.785576Z"
    },
    "id": "BNC2fEliRdL0",
    "outputId": "7bcccebc-6483-4c1e-e86c-0e63aa2b6d27",
    "papermill": {
     "duration": 1.111137,
     "end_time": "2022-08-07T15:49:36.608449",
     "exception": false,
     "start_time": "2022-08-07T15:49:35.497312",
     "status": "completed"
    },
    "tags": []
   },
   "outputs": [],
   "source": [
    "ravdess_directory_list = os.listdir(Ravdess)\n",
    "\n",
    "file_emotion = []\n",
    "file_path = []\n",
    "for dir in ravdess_directory_list:\n",
    "    actor = os.listdir(Ravdess + dir)\n",
    "    for file in actor:\n",
    "        part = file.split('.')[0]\n",
    "        part = part.split('-')\n",
    "        #The third part of the name represents the emotion in the dialogue\n",
    "        file_emotion.append(int(part[2]))\n",
    "        file_path.append(Ravdess + dir + '/' + file)\n",
    "\n",
    "emotion_df = pd.DataFrame(file_emotion, columns=['Emotions'])\n",
    "\n",
    "\n",
    "path_df = pd.DataFrame(file_path, columns=['Path'])\n",
    "Ravdess_df = pd.concat([emotion_df, path_df], axis=1)\n",
    "\n",
    "Ravdess_df.Emotions.replace({1:'neutral', 2:'neutral', 3:'happy', 4:'sad', 5:'angry', 6:'fear', 7:'disgust', 8:'surprise'}, inplace=True)\n",
    "Ravdess_df.head(10)\n",
    "Ravdess_df.Emotions.value_counts()"
   ]
  },
  {
   "cell_type": "markdown",
   "metadata": {
    "id": "ufgwWN3yRdL1",
    "papermill": {
     "duration": 0.067141,
     "end_time": "2022-08-07T15:49:37.831020",
     "exception": false,
     "start_time": "2022-08-07T15:49:37.763879",
     "status": "completed"
    },
    "tags": []
   },
   "source": [
    "## <center>2. Crema Dataset</center>"
   ]
  },
  {
   "cell_type": "code",
   "execution_count": null,
   "metadata": {
    "colab": {
     "base_uri": "https://localhost:8080/"
    },
    "execution": {
     "iopub.execute_input": "2022-08-07T15:49:37.972943Z",
     "iopub.status.busy": "2022-08-07T15:49:37.972401Z",
     "iopub.status.idle": "2022-08-07T15:49:38.825649Z",
     "shell.execute_reply": "2022-08-07T15:49:38.826052Z",
     "shell.execute_reply.started": "2022-07-12T15:36:01.392816Z"
    },
    "id": "T5pOiryYRdL1",
    "outputId": "b91b58e7-cd58-47b6-c9be-c8290f22224a",
    "papermill": {
     "duration": 0.92844,
     "end_time": "2022-08-07T15:49:38.826189",
     "exception": false,
     "start_time": "2022-08-07T15:49:37.897749",
     "status": "completed"
    },
    "tags": []
   },
   "outputs": [],
   "source": [
    "crema_directory_list = os.listdir(Crema)\n",
    "\n",
    "file_emotion = []\n",
    "file_path = []\n",
    "\n",
    "for file in crema_directory_list:\n",
    "    # storing file paths\n",
    "    file_path.append(Crema + file)\n",
    "    # storing file emotions\n",
    "    part=file.split('_')\n",
    "    if part[2] == 'SAD':\n",
    "        file_emotion.append('sad')\n",
    "    elif part[2] == 'ANG':\n",
    "        file_emotion.append('angry')\n",
    "    elif part[2] == 'DIS':\n",
    "        file_emotion.append('disgust')\n",
    "    elif part[2] == 'FEA':\n",
    "        file_emotion.append('fear')\n",
    "    elif part[2] == 'HAP':\n",
    "        file_emotion.append('happy')\n",
    "    elif part[2] == 'NEU':\n",
    "        file_emotion.append('neutral')\n",
    "    else:\n",
    "        file_emotion.append('Unknown')\n",
    "\n",
    "\n",
    "emotion_df = pd.DataFrame(file_emotion, columns=['Emotions'])\n",
    "\n",
    "\n",
    "path_df = pd.DataFrame(file_path, columns=['Path'])\n",
    "Crema_df = pd.concat([emotion_df, path_df], axis=1)\n",
    "Crema_df.head()\n",
    "Crema_df.Emotions.value_counts()"
   ]
  },
  {
   "cell_type": "markdown",
   "metadata": {
    "id": "4FA5dOcXRdL3",
    "papermill": {
     "duration": 0.073838,
     "end_time": "2022-08-07T15:49:41.006624",
     "exception": false,
     "start_time": "2022-08-07T15:49:40.932786",
     "status": "completed"
    },
    "tags": []
   },
   "source": [
    "##  <center> 3. Savee dataset <center>"
   ]
  },
  {
   "cell_type": "code",
   "execution_count": null,
   "metadata": {
    "colab": {
     "base_uri": "https://localhost:8080/"
    },
    "execution": {
     "iopub.execute_input": "2022-08-07T15:49:41.158568Z",
     "iopub.status.busy": "2022-08-07T15:49:41.157998Z",
     "iopub.status.idle": "2022-08-07T15:49:41.385185Z",
     "shell.execute_reply": "2022-08-07T15:49:41.384732Z",
     "shell.execute_reply.started": "2022-07-12T15:36:02.914115Z"
    },
    "id": "iH9KKT_bRdL3",
    "outputId": "5584ddaf-4f82-46b9-e116-fcfb6c99424e",
    "papermill": {
     "duration": 0.306956,
     "end_time": "2022-08-07T15:49:41.385290",
     "exception": false,
     "start_time": "2022-08-07T15:49:41.078334",
     "status": "completed"
    },
    "tags": []
   },
   "outputs": [],
   "source": [
    "savee_directory_list = os.listdir(Savee)\n",
    "\n",
    "file_emotion = []\n",
    "file_path = []\n",
    "\n",
    "for file in savee_directory_list:\n",
    "    file_path.append(Savee + file)\n",
    "    part = file.split('_')[1]\n",
    "    ele = part[:-6]\n",
    "    if ele=='a':\n",
    "        file_emotion.append('angry')\n",
    "    elif ele=='d':\n",
    "        file_emotion.append('disgust')\n",
    "    elif ele=='f':\n",
    "        file_emotion.append('fear')\n",
    "    elif ele=='h':\n",
    "        file_emotion.append('happy')\n",
    "    elif ele=='n':\n",
    "        file_emotion.append('neutral')\n",
    "    elif ele=='sa':\n",
    "        file_emotion.append('sad')\n",
    "    else:\n",
    "        file_emotion.append('surprise')\n",
    "\n",
    "\n",
    "emotion_df = pd.DataFrame(file_emotion, columns=['Emotions'])\n",
    "\n",
    "\n",
    "path_df = pd.DataFrame(file_path, columns=['Path'])\n",
    "Savee_df = pd.concat([emotion_df, path_df], axis=1)\n",
    "Savee_df.head()\n",
    "Savee_df.Emotions.value_counts()"
   ]
  },
  {
   "cell_type": "markdown",
   "metadata": {
    "id": "Grvi88LkV2Os"
   },
   "source": [
    "# Data Integration <center>"
   ]
  },
  {
   "cell_type": "code",
   "execution_count": null,
   "metadata": {
    "colab": {
     "base_uri": "https://localhost:8080/"
    },
    "execution": {
     "iopub.execute_input": "2022-08-07T15:49:42.019642Z",
     "iopub.status.busy": "2022-08-07T15:49:42.018639Z",
     "iopub.status.idle": "2022-08-07T15:49:42.105916Z",
     "shell.execute_reply": "2022-08-07T15:49:42.105490Z",
     "shell.execute_reply.started": "2022-07-12T15:36:03.362131Z"
    },
    "id": "YpoSs-zyRdL4",
    "outputId": "15af786b-6c4f-4d31-a08f-b828bce79ccd",
    "papermill": {
     "duration": 0.176939,
     "end_time": "2022-08-07T15:49:42.106050",
     "exception": false,
     "start_time": "2022-08-07T15:49:41.929111",
     "status": "completed"
    },
    "tags": []
   },
   "outputs": [],
   "source": [
    "data_path = pd.concat([Ravdess_df, Savee_df, Crema_df], axis = 0)\n",
    "data_path.to_csv(\"data_path.csv\",index=False)\n",
    "data_path.head()\n",
    "data_path.Emotions.value_counts()"
   ]
  },
  {
   "cell_type": "code",
   "execution_count": null,
   "metadata": {
    "colab": {
     "base_uri": "https://localhost:8080/",
     "height": 478
    },
    "execution": {
     "iopub.execute_input": "2022-08-07T15:49:42.281096Z",
     "iopub.status.busy": "2022-08-07T15:49:42.280245Z",
     "iopub.status.idle": "2022-08-07T15:49:42.409920Z",
     "shell.execute_reply": "2022-08-07T15:49:42.410383Z",
     "shell.execute_reply.started": "2022-07-12T15:36:03.610851Z"
    },
    "id": "65tjldRyRdL4",
    "outputId": "66c15ab1-c320-4d12-ada1-aed7ac344d37",
    "papermill": {
     "duration": 0.222986,
     "end_time": "2022-08-07T15:49:42.410516",
     "exception": false,
     "start_time": "2022-08-07T15:49:42.187530",
     "status": "completed"
    },
    "tags": []
   },
   "outputs": [],
   "source": [
    "import seaborn as sns\n",
    "import matplotlib.pyplot as plt\n",
    "\n",
    "custom_palette = sns.color_palette([\"#4B0082\", \"#8A2BE2\", \"#9932CC\", \"#BA55D3\", \"#DDA0DD\", \"#EE82EE\"])\n",
    "sns.set_palette(custom_palette)\n",
    "\n",
    "plt.title('Count of Emotions', size=16)\n",
    "sns.countplot(data=data_path, x='Emotions')\n",
    "plt.ylabel('Count', size=12)\n",
    "plt.xlabel('Emotions', size=12)\n",
    "sns.despine(top=True, right=True, left=False, bottom=False)\n",
    "plt.show()\n"
   ]
  },
  {
   "cell_type": "markdown",
   "metadata": {
    "id": "RrS_Oi5JRdL4",
    "papermill": {
     "duration": 0.080695,
     "end_time": "2022-08-07T15:49:42.573414",
     "exception": false,
     "start_time": "2022-08-07T15:49:42.492719",
     "status": "completed"
    },
    "tags": []
   },
   "source": [
    "Functions for:\n",
    "* Waveplots\n",
    "* Spectograms\n",
    "* MFCC"
   ]
  },
  {
   "cell_type": "code",
   "execution_count": null,
   "metadata": {
    "execution": {
     "iopub.execute_input": "2022-08-07T15:49:42.744829Z",
     "iopub.status.busy": "2022-08-07T15:49:42.744093Z",
     "iopub.status.idle": "2022-08-07T15:49:42.747443Z",
     "shell.execute_reply": "2022-08-07T15:49:42.746960Z",
     "shell.execute_reply.started": "2022-07-12T15:36:03.778307Z"
    },
    "id": "lGAD9H5jRdL4",
    "papermill": {
     "duration": 0.092734,
     "end_time": "2022-08-07T15:49:42.747542",
     "exception": false,
     "start_time": "2022-08-07T15:49:42.654808",
     "status": "completed"
    },
    "tags": []
   },
   "outputs": [],
   "source": [
    "def create_waveplot(data, sr, e):\n",
    "    plt.figure(figsize=(10, 3))\n",
    "    plt.title('The waveform for the sound in emotion {}'.format(e), size=10)\n",
    "    librosa.display.waveshow(data, sr=sr)\n",
    "    plt.show()\n",
    "\n",
    "def create_spectrogram(data, sr, e):\n",
    "    # Fourier.\n",
    "    X = librosa.stft(data)\n",
    "    Xdb = librosa.amplitude_to_db(abs(X))\n",
    "    plt.figure(figsize=(12, 3))\n",
    "    plt.title('Spectrogram for {}'.format(e), size=10)\n",
    "    librosa.display.specshow(Xdb, sr=sr, x_axis='time', y_axis='hz')\n",
    "    plt.colorbar()\n",
    "\n",
    "def create_mfcc(data,sr,e):\n",
    "    mfcc = librosa.feature.mfcc(y=data, sr=sr, n_mfcc=13)\n",
    "    plt.figure(figsize=(12,3))\n",
    "    plt.title('Mel-frequency cepstral coefficient for {}'.format(e), size=10)\n",
    "    librosa.display.specshow(mfcc, x_axis='time')\n",
    "    plt.ylabel('MFCC')\n",
    "    plt.colorbar()"
   ]
  },
  {
   "cell_type": "markdown",
   "metadata": {
    "id": "Ne76jIwtZiUz"
   },
   "source": [
    "# Functions for extracting audio features:"
   ]
  },
  {
   "cell_type": "code",
   "execution_count": null,
   "metadata": {
    "execution": {
     "iopub.execute_input": "2022-08-07T15:49:43.091895Z",
     "iopub.status.busy": "2022-08-07T15:49:43.091131Z",
     "iopub.status.idle": "2022-08-07T15:49:43.093930Z",
     "shell.execute_reply": "2022-08-07T15:49:43.093485Z",
     "shell.execute_reply.started": "2022-07-12T15:36:03.805051Z"
    },
    "id": "Uog0_WhRRdL4",
    "papermill": {
     "duration": 0.092623,
     "end_time": "2022-08-07T15:49:43.094043",
     "exception": false,
     "start_time": "2022-08-07T15:49:43.001420",
     "status": "completed"
    },
    "tags": []
   },
   "outputs": [],
   "source": [
    "# Zero Crossing Rate\n",
    "def zcr(data, frame_length=2048, hop_length=512):\n",
    "    zcr = librosa.feature.zero_crossing_rate(y=data, frame_length=frame_length, hop_length=hop_length)\n",
    "    return np.squeeze(zcr)\n",
    "#RMS Energy\n",
    "def rmse(data, frame_length=2048, hop_length=512):\n",
    "    rmse = librosa.feature.rms(y=data, frame_length=frame_length, hop_length=hop_length)\n",
    "    return np.squeeze(rmse)\n",
    "#MFCC\n",
    "def mfcc(data, sr, frame_length=2048, hop_length=512, flatten: bool = True):\n",
    "    mfcc_feature = librosa.feature.mfcc(y=data, sr=sr)\n",
    "    return np.squeeze(mfcc_feature.T) if not flatten else np.ravel(mfcc_feature.T)"
   ]
  },
  {
   "cell_type": "code",
   "execution_count": null,
   "metadata": {
    "colab": {
     "base_uri": "https://localhost:8080/"
    },
    "execution": {
     "iopub.execute_input": "2022-08-07T15:49:43.264110Z",
     "iopub.status.busy": "2022-08-07T15:49:43.263250Z",
     "iopub.status.idle": "2022-08-07T15:49:43.376547Z",
     "shell.execute_reply": "2022-08-07T15:49:43.375856Z",
     "shell.execute_reply.started": "2022-07-12T15:36:03.81768Z"
    },
    "id": "2vinbRckRdL5",
    "outputId": "68c8a935-8461-40fc-df22-8b22e9d60fb1",
    "papermill": {
     "duration": 0.200634,
     "end_time": "2022-08-07T15:49:43.376651",
     "exception": false,
     "start_time": "2022-08-07T15:49:43.176017",
     "status": "completed"
    },
    "tags": []
   },
   "outputs": [],
   "source": [
    "# example feature vectors extracted from the audio data\n",
    "fname = Savee + 'DC_f11.wav'\n",
    "data, sampling_rate = librosa.load(fname, duration=2.5, offset=0.6)\n",
    "print(\"ZCR: \", zcr(data).shape)\n",
    "print(\"RMS :\", rmse(data).shape)\n",
    "print(\"MFCC: \", mfcc(data, sampling_rate).shape)"
   ]
  },
  {
   "cell_type": "code",
   "execution_count": null,
   "metadata": {
    "colab": {
     "base_uri": "https://localhost:8080/",
     "height": 973
    },
    "execution": {
     "iopub.execute_input": "2022-08-07T15:49:46.595153Z",
     "iopub.status.busy": "2022-08-07T15:49:46.594462Z",
     "iopub.status.idle": "2022-08-07T15:49:47.254559Z",
     "shell.execute_reply": "2022-08-07T15:49:47.255540Z",
     "shell.execute_reply.started": "2022-07-12T15:36:06.259464Z"
    },
    "id": "eEoaZRriRdL5",
    "outputId": "d6a96e6e-f93b-444e-d636-7ef458d2ad77",
    "papermill": {
     "duration": 0.786201,
     "end_time": "2022-08-07T15:49:47.255678",
     "exception": false,
     "start_time": "2022-08-07T15:49:46.469477",
     "status": "completed"
    },
    "tags": []
   },
   "outputs": [],
   "source": [
    "emotion='sad'\n",
    "path = np.array(data_path.Path[data_path.Emotions==emotion])[1]\n",
    "data, sampling_rate = librosa.load(path)\n",
    "create_waveplot(data, sampling_rate, emotion)\n",
    "create_spectrogram(data, sampling_rate, emotion)\n",
    "create_mfcc(data,sampling_rate,emotion)\n",
    "Audio(path)\n",
    "\n",
    "print(sampling_rate)"
   ]
  },
  {
   "cell_type": "code",
   "execution_count": null,
   "metadata": {
    "colab": {
     "base_uri": "https://localhost:8080/",
     "height": 973
    },
    "execution": {
     "iopub.execute_input": "2022-08-07T15:49:47.506527Z",
     "iopub.status.busy": "2022-08-07T15:49:47.505839Z",
     "iopub.status.idle": "2022-08-07T15:49:48.167413Z",
     "shell.execute_reply": "2022-08-07T15:49:48.168132Z",
     "shell.execute_reply.started": "2022-07-12T15:36:06.951892Z"
    },
    "id": "ot7D8tjtRdL6",
    "outputId": "64813806-82aa-4ea0-b7a0-160888228e59",
    "papermill": {
     "duration": 0.791981,
     "end_time": "2022-08-07T15:49:48.168271",
     "exception": false,
     "start_time": "2022-08-07T15:49:47.376290",
     "status": "completed"
    },
    "tags": []
   },
   "outputs": [],
   "source": [
    "emotion='happy'\n",
    "path = np.array(data_path.Path[data_path.Emotions==emotion])[1]\n",
    "data, sampling_rate = librosa.load(path)\n",
    "create_waveplot(data, sampling_rate, emotion)\n",
    "create_spectrogram(data, sampling_rate, emotion)\n",
    "create_mfcc(data,sampling_rate,emotion)\n",
    "Audio(path)\n",
    "print(sampling_rate)"
   ]
  },
  {
   "cell_type": "markdown",
   "metadata": {
    "id": "cAyp75FFapd2"
   },
   "source": [
    "# Data Augmentation Functions for Audio Processing"
   ]
  },
  {
   "cell_type": "code",
   "execution_count": null,
   "metadata": {
    "execution": {
     "iopub.execute_input": "2022-08-07T15:49:50.551278Z",
     "iopub.status.busy": "2022-08-07T15:49:50.550498Z",
     "iopub.status.idle": "2022-08-07T15:49:50.731205Z",
     "shell.execute_reply": "2022-08-07T15:49:50.730691Z",
     "shell.execute_reply.started": "2022-07-12T15:36:09.261911Z"
    },
    "id": "NdTfho93RdL6",
    "papermill": {
     "duration": 0.339023,
     "end_time": "2022-08-07T15:49:50.731323",
     "exception": false,
     "start_time": "2022-08-07T15:49:50.392300",
     "status": "completed"
    },
    "tags": []
   },
   "outputs": [],
   "source": [
    "# These functions are used to perform data augmentation on audio signals\n",
    "\n",
    "def noise(data,noise_rate=0.015):\n",
    "    noise_amp = noise_rate*np.random.uniform()*np.amax(data)\n",
    "    data = data + noise_amp*np.random.normal(size=data.shape[0])\n",
    "    return data\n",
    "\n",
    "def shift(data):\n",
    "    shift_range = int(np.random.uniform(low=-5, high = 5)*1000)\n",
    "    return np.roll(data, shift_range)\n",
    "\n",
    "path = np.array(data_path.Path)[2]\n",
    "data, sample_rate = librosa.load(path)"
   ]
  },
  {
   "cell_type": "code",
   "execution_count": null,
   "metadata": {
    "colab": {
     "base_uri": "https://localhost:8080/",
     "height": 370
    },
    "execution": {
     "iopub.execute_input": "2022-08-07T15:49:51.030232Z",
     "iopub.status.busy": "2022-08-07T15:49:51.029356Z",
     "iopub.status.idle": "2022-08-07T15:49:51.164750Z",
     "shell.execute_reply": "2022-08-07T15:49:51.163859Z",
     "shell.execute_reply.started": "2022-07-12T15:36:09.455267Z"
    },
    "id": "7Sdefe2PRdL6",
    "outputId": "bd366319-6b1b-4f8b-b88b-cbda77943056",
    "papermill": {
     "duration": 0.289409,
     "end_time": "2022-08-07T15:49:51.164858",
     "exception": false,
     "start_time": "2022-08-07T15:49:50.875449",
     "status": "completed"
    },
    "tags": []
   },
   "outputs": [],
   "source": [
    "#Audio without augmentation\n",
    "plt.figure(figsize=(12,3))\n",
    "librosa.display.waveshow(y=data, sr=sample_rate)\n",
    "Audio(path)"
   ]
  },
  {
   "cell_type": "code",
   "execution_count": null,
   "metadata": {
    "colab": {
     "base_uri": "https://localhost:8080/",
     "height": 370
    },
    "execution": {
     "iopub.execute_input": "2022-08-07T15:49:51.530160Z",
     "iopub.status.busy": "2022-08-07T15:49:51.529415Z",
     "iopub.status.idle": "2022-08-07T15:49:51.670677Z",
     "shell.execute_reply": "2022-08-07T15:49:51.670193Z",
     "shell.execute_reply.started": "2022-07-12T15:36:09.613104Z"
    },
    "id": "uu0RAFQ2RdL7",
    "outputId": "21b8ca9d-a113-4051-9ec1-f7a5d378ea76",
    "papermill": {
     "duration": 0.343386,
     "end_time": "2022-08-07T15:49:51.670783",
     "exception": false,
     "start_time": "2022-08-07T15:49:51.327397",
     "status": "completed"
    },
    "tags": []
   },
   "outputs": [],
   "source": [
    "#Audio with noise added\n",
    "x = noise(data)\n",
    "plt.figure(figsize=(12,3))\n",
    "librosa.display.waveshow(y=x, sr=sample_rate)\n",
    "Audio(x, rate=sample_rate)"
   ]
  },
  {
   "cell_type": "markdown",
   "metadata": {
    "id": "PSY8_Gv6RdL7",
    "papermill": {
     "duration": 0.16666,
     "end_time": "2022-08-07T15:49:53.260119",
     "exception": false,
     "start_time": "2022-08-07T15:49:53.093459",
     "status": "completed"
    },
    "tags": []
   },
   "source": [
    "#### Shifting"
   ]
  },
  {
   "cell_type": "code",
   "execution_count": null,
   "metadata": {
    "colab": {
     "base_uri": "https://localhost:8080/",
     "height": 328
    },
    "execution": {
     "iopub.execute_input": "2022-08-07T15:49:53.610247Z",
     "iopub.status.busy": "2022-08-07T15:49:53.609359Z",
     "iopub.status.idle": "2022-08-07T15:49:53.739570Z",
     "shell.execute_reply": "2022-08-07T15:49:53.738917Z",
     "shell.execute_reply.started": "2022-07-12T15:36:10.412655Z"
    },
    "id": "an_WNQBrRdL8",
    "outputId": "b46beff4-8539-4514-cf81-cf10e2b0fda5",
    "papermill": {
     "duration": 0.30571,
     "end_time": "2022-08-07T15:49:53.739696",
     "exception": false,
     "start_time": "2022-08-07T15:49:53.433986",
     "status": "completed"
    },
    "tags": []
   },
   "outputs": [],
   "source": [
    "# Audio with shift added\n",
    "x = shift(data)\n",
    "plt.figure(figsize=(12,3))\n",
    "librosa.display.waveshow(y=x, sr=sample_rate)\n",
    "Audio(x, rate=sample_rate)\n",
    "sample_rate"
   ]
  },
  {
   "cell_type": "code",
   "execution_count": null,
   "metadata": {
    "execution": {
     "iopub.execute_input": "2022-08-07T15:49:56.002083Z",
     "iopub.status.busy": "2022-08-07T15:49:56.000905Z",
     "iopub.status.idle": "2022-08-07T15:49:56.003050Z",
     "shell.execute_reply": "2022-08-07T15:49:56.002601Z",
     "shell.execute_reply.started": "2022-07-12T15:36:11.026154Z"
    },
    "id": "5AKgZMH7RdL8",
    "papermill": {
     "duration": 0.374365,
     "end_time": "2022-08-07T15:49:56.003152",
     "exception": false,
     "start_time": "2022-08-07T15:49:55.628787",
     "status": "completed"
    },
    "tags": []
   },
   "outputs": [],
   "source": [
    "hop_length = 512"
   ]
  },
  {
   "cell_type": "code",
   "execution_count": null,
   "metadata": {
    "execution": {
     "iopub.execute_input": "2022-08-07T15:49:56.355991Z",
     "iopub.status.busy": "2022-08-07T15:49:56.355198Z",
     "iopub.status.idle": "2022-08-07T15:49:56.358426Z",
     "shell.execute_reply": "2022-08-07T15:49:56.357944Z",
     "shell.execute_reply.started": "2022-07-12T15:36:11.032498Z"
    },
    "id": "VXX3RxbJRdL9",
    "papermill": {
     "duration": 0.183483,
     "end_time": "2022-08-07T15:49:56.358532",
     "exception": false,
     "start_time": "2022-08-07T15:49:56.175049",
     "status": "completed"
    },
    "tags": []
   },
   "outputs": [],
   "source": [
    "# Zero Crossing Rate\n",
    "def zcr(data, frame_length=2048, hop_length=512):\n",
    "    zcr = librosa.feature.zero_crossing_rate(y=data, frame_length=frame_length, hop_length=hop_length)\n",
    "    return np.squeeze(zcr)\n",
    "#RMS Energy\n",
    "def rmse(data, frame_length=2048, hop_length=512):\n",
    "    rmse = librosa.feature.rms(y=data, frame_length=frame_length, hop_length=hop_length)\n",
    "    return np.squeeze(rmse)\n",
    "#MFCC\n",
    "def mfcc(data, sr, frame_length=2048, hop_length=512, flatten: bool = True):\n",
    "    mfcc_feature = librosa.feature.mfcc(y=data, sr=sr)\n",
    "    return np.squeeze(mfcc_feature.T) if not flatten else np.ravel(mfcc_feature.T)"
   ]
  },
  {
   "cell_type": "code",
   "execution_count": null,
   "metadata": {
    "execution": {
     "iopub.execute_input": "2022-08-07T15:49:57.055211Z",
     "iopub.status.busy": "2022-08-07T15:49:57.054424Z",
     "iopub.status.idle": "2022-08-07T15:49:57.056887Z",
     "shell.execute_reply": "2022-08-07T15:49:57.057462Z",
     "shell.execute_reply.started": "2022-07-12T15:36:11.058443Z"
    },
    "id": "IzUoalD6RdL9",
    "papermill": {
     "duration": 0.182912,
     "end_time": "2022-08-07T15:49:57.057599",
     "exception": false,
     "start_time": "2022-08-07T15:49:56.874687",
     "status": "completed"
    },
    "tags": []
   },
   "outputs": [],
   "source": [
    "# Extract features and stack them into a one-dimensional matrix\n",
    "def extract_features(data, sr, frame_length=2048, hop_length=512):\n",
    "    result = np.array([])\n",
    "    result = np.hstack((result,\n",
    "                        zcr(data, frame_length, hop_length),\n",
    "                        rmse(data, frame_length, hop_length),\n",
    "                        mfcc(data, sr, frame_length, hop_length)\n",
    "                                    ))\n",
    "    return result"
   ]
  },
  {
   "cell_type": "markdown",
   "metadata": {
    "id": "UNc1F0uke34U"
   },
   "source": [
    "#Utalizing GPU for Feature Extraction and Model Training\n"
   ]
  },
  {
   "cell_type": "code",
   "execution_count": null,
   "metadata": {
    "colab": {
     "base_uri": "https://localhost:8080/"
    },
    "id": "_w2A9fEfepj3",
    "outputId": "90a4b6a2-0e46-458f-9036-0be93c6d03a2"
   },
   "outputs": [],
   "source": [
    "import torch\n",
    "\n",
    "# Check if GPU is available\n",
    "if torch.cuda.is_available():\n",
    "    print('GPU is available!')\n",
    "else:\n",
    "    print('GPU is not available.')"
   ]
  },
  {
   "cell_type": "code",
   "execution_count": null,
   "metadata": {
    "id": "V101LP9ietck"
   },
   "outputs": [],
   "source": [
    "# Define a tensor (replace this with your actual tensor creation)\n",
    "tensor = torch.randn(3, 3)\n",
    "\n",
    "# Move tensors/models to GPU if available\n",
    "device = torch.device('cuda' if torch.cuda.is_available() else 'cpu')\n",
    "\n",
    "# Move tensor to GPU\n",
    "tensor = tensor.to(device)"
   ]
  },
  {
   "cell_type": "code",
   "execution_count": null,
   "metadata": {
    "execution": {
     "iopub.execute_input": "2022-08-07T15:49:57.408925Z",
     "iopub.status.busy": "2022-08-07T15:49:57.408101Z",
     "iopub.status.idle": "2022-08-07T15:49:57.410936Z",
     "shell.execute_reply": "2022-08-07T15:49:57.410509Z",
     "shell.execute_reply.started": "2022-07-12T15:36:11.070357Z"
    },
    "id": "n4O_-EmMRdL9",
    "papermill": {
     "duration": 0.184589,
     "end_time": "2022-08-07T15:49:57.411057",
     "exception": false,
     "start_time": "2022-08-07T15:49:57.226468",
     "status": "completed"
    },
    "tags": []
   },
   "outputs": [],
   "source": [
    "def get_features(path):\n",
    "    #duration, offset\n",
    "    data, sample_rate = librosa.load(path, duration=2.5, offset=0.6)\n",
    "\n",
    "    res1 = extract_features(data,sample_rate)\n",
    "    result = np.array(res1)\n",
    "\n",
    "    noise_data = noise(data)\n",
    "    res2 = extract_features(noise_data,sample_rate)\n",
    "    result = np.vstack((result, res2))\n",
    "\n",
    "    return result"
   ]
  },
  {
   "cell_type": "markdown",
   "metadata": {
    "id": "SHUuqk8aLUG-"
   },
   "source": [
    "### Features extraction by sequential processing:"
   ]
  },
  {
   "cell_type": "code",
   "execution_count": null,
   "metadata": {
    "colab": {
     "base_uri": "https://localhost:8080/"
    },
    "execution": {
     "iopub.execute_input": "2022-08-07T15:49:57.761143Z",
     "iopub.status.busy": "2022-08-07T15:49:57.760589Z",
     "iopub.status.idle": "2022-08-07T16:28:45.745598Z",
     "shell.execute_reply": "2022-08-07T16:28:45.744500Z"
    },
    "id": "P9TDky_pRdL9",
    "outputId": "15d1f7d5-e432-436d-e789-3cadf82372a5",
    "papermill": {
     "duration": 2328.16401,
     "end_time": "2022-08-07T16:28:45.745728",
     "exception": false,
     "start_time": "2022-08-07T15:49:57.581718",
     "status": "completed"
    },
    "tags": []
   },
   "outputs": [],
   "source": [
    "X, Y = [], []\n",
    "start_time = time()\n",
    "for path, emotion in zip(data_path.Path, data_path.Emotions):\n",
    "    feature = get_features(path)\n",
    "    for ele in feature:\n",
    "        X.append(ele)\n",
    "        Y.append(emotion)\n",
    "\n",
    "sequential_execution_time = time() - start_time\n",
    "\n",
    "print(\"Execution Time (Sequential processing): \", sequential_execution_time)"
   ]
  },
  {
   "cell_type": "markdown",
   "metadata": {
    "id": "0iuN_t8Ay8QZ"
   },
   "source": [
    "### Features extraction by parallel processing:"
   ]
  },
  {
   "cell_type": "code",
   "execution_count": null,
   "metadata": {
    "colab": {
     "base_uri": "https://localhost:8080/"
    },
    "id": "Fgr0_i4FzBbO",
    "outputId": "8a18c4dd-e101-4276-dbcb-c3dd94dd983d"
   },
   "outputs": [],
   "source": [
    "from concurrent.futures import ThreadPoolExecutor\n",
    "\n",
    "start_time = time()\n",
    "\n",
    "# Appending emotion many times as we have made many augmentation techniques on each audio file.\n",
    "def process_audio_file(path, emotion, X, Y):\n",
    "  feature = get_features(path)\n",
    "  for ele in feature:\n",
    "      X.append(ele)\n",
    "      Y.append(emotion)\n",
    "  return (path, emotion)\n",
    "\n",
    "if __name__ == \"__main__\":\n",
    "    X, Y = [], []\n",
    "    with ThreadPoolExecutor() as executor:\n",
    "        f = []\n",
    "        for path, emotion in zip(data_path.Path, data_path.Emotions):\n",
    "            future = executor.submit(process_audio_file, path, emotion, X, Y)\n",
    "            f.append(future)\n",
    "\n",
    "        for future in f:\n",
    "            path, emotion = future.result()\n",
    "\n",
    "\n",
    "parallel_execution_time = time() - start_time\n",
    "\n",
    "print(\"Execution Time (Parallel processing): \", parallel_execution_time)"
   ]
  },
  {
   "cell_type": "code",
   "execution_count": null,
   "metadata": {
    "colab": {
     "base_uri": "https://localhost:8080/"
    },
    "execution": {
     "iopub.execute_input": "2022-08-07T16:28:46.109422Z",
     "iopub.status.busy": "2022-08-07T16:28:46.108652Z",
     "iopub.status.idle": "2022-08-07T16:28:46.112335Z",
     "shell.execute_reply": "2022-08-07T16:28:46.111891Z"
    },
    "id": "UOsUUPhmRdL9",
    "outputId": "ceafa0cc-28b0-4592-8b87-9f32591ec304",
    "papermill": {
     "duration": 0.185154,
     "end_time": "2022-08-07T16:28:46.112438",
     "exception": false,
     "start_time": "2022-08-07T16:28:45.927284",
     "status": "completed"
    },
    "tags": []
   },
   "outputs": [],
   "source": [
    "len(X), len(Y), data_path.Path.shape"
   ]
  },
  {
   "cell_type": "code",
   "execution_count": null,
   "metadata": {
    "colab": {
     "base_uri": "https://localhost:8080/",
     "height": 726
    },
    "execution": {
     "iopub.execute_input": "2022-08-07T16:28:46.497495Z",
     "iopub.status.busy": "2022-08-07T16:28:46.487104Z",
     "iopub.status.idle": "2022-08-07T16:32:06.236503Z",
     "shell.execute_reply": "2022-08-07T16:32:06.237475Z"
    },
    "id": "HM_lfQq1RdL9",
    "outputId": "f26ac175-e1fc-485b-a9f7-3d1fda0beca4",
    "papermill": {
     "duration": 199.955664,
     "end_time": "2022-08-07T16:32:06.237711",
     "exception": false,
     "start_time": "2022-08-07T16:28:46.282047",
     "status": "completed"
    },
    "tags": []
   },
   "outputs": [],
   "source": [
    "Features = pd.DataFrame(X)\n",
    "Features['labels'] = Y\n",
    "Features.to_csv('features.csv', index=False)\n",
    "Features.head(20)"
   ]
  }
 ],
 "metadata": {
  "accelerator": "GPU",
  "colab": {
   "gpuType": "T4",
   "include_colab_link": true,
   "provenance": []
  },
  "kernelspec": {
   "display_name": "Python 3 (ipykernel)",
   "language": "python",
   "name": "python3"
  },
  "language_info": {
   "codemirror_mode": {
    "name": "ipython",
    "version": 3
   },
   "file_extension": ".py",
   "mimetype": "text/x-python",
   "name": "python",
   "nbconvert_exporter": "python",
   "pygments_lexer": "ipython3",
   "version": "3.11.5"
  },
  "papermill": {
   "duration": 6745.329716,
   "end_time": "2022-08-07T17:41:37.955432",
   "environment_variables": {},
   "exception": null,
   "input_path": "__notebook__.ipynb",
   "output_path": "__notebook__.ipynb",
   "parameters": {},
   "start_time": "2022-08-07T15:49:12.625716",
   "version": "2.1.0"
  }
 },
 "nbformat": 4,
 "nbformat_minor": 1
}
